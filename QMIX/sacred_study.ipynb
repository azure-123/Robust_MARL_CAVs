{
 "cells": [
  {
   "cell_type": "code",
   "execution_count": 2,
   "id": "1792d761-58b2-4e8a-9205-04023961efe4",
   "metadata": {},
   "outputs": [],
   "source": [
    "from numpy.random import permutation\n",
    "from sklearn import svm, datasets\n",
    "from sacred import Experiment  "
   ]
  },
  {
   "cell_type": "code",
   "execution_count": 4,
   "id": "7b6d702e-587d-4a6d-8a64-5ba5ba248662",
   "metadata": {},
   "outputs": [],
   "source": [
    "ex = Experiment('iris_rbf_svm',interactive=True)         # Sacred 相关\n",
    "\n",
    "@ex.config          # Sacred 相关\n",
    "def cfg():\n",
    "    C = 1.0\n",
    "    gamma = 0.7\n",
    "\n",
    "@ex.main        # Sacred 相关\n",
    "def run(C, gamma):\n",
    "    iris = datasets.load_iris()\n",
    "    per = permutation(iris.target.size)\n",
    "    iris.data = iris.data[per]\n",
    "    iris.target = iris.target[per]\n",
    "\n",
    "    clf = svm.SVC(C, 'rbf', gamma=gamma)\n",
    "    clf.fit(iris.data[:90], iris.target[:90])\n",
    "    return clf.score(iris.data[90:], iris.target[90:])  # Sacred 相关\n"
   ]
  },
  {
   "cell_type": "code",
   "execution_count": null,
   "id": "1ca0247f-26b4-4624-a4e6-b7200215aac3",
   "metadata": {},
   "outputs": [],
   "source": []
  },
  {
   "cell_type": "code",
   "execution_count": null,
   "id": "30c15518-fd47-4e9e-8e5e-e0506e4f312d",
   "metadata": {},
   "outputs": [],
   "source": []
  }
 ],
 "metadata": {
  "kernelspec": {
   "display_name": "pytt",
   "language": "python",
   "name": "pytt"
  },
  "language_info": {
   "codemirror_mode": {
    "name": "ipython",
    "version": 3
   },
   "file_extension": ".py",
   "mimetype": "text/x-python",
   "name": "python",
   "nbconvert_exporter": "python",
   "pygments_lexer": "ipython3",
   "version": "3.6.13"
  }
 },
 "nbformat": 4,
 "nbformat_minor": 5
}
